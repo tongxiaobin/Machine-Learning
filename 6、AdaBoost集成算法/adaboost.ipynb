{
 "cells": [
  {
   "cell_type": "markdown",
   "metadata": {},
   "source": [
    "### 1.构建单层决策树"
   ]
  },
  {
   "cell_type": "code",
   "execution_count": 1,
   "metadata": {},
   "outputs": [
    {
     "data": {
      "text/plain": [
       "<matplotlib.collections.PathCollection at 0x12780470>"
      ]
     },
     "execution_count": 1,
     "metadata": {},
     "output_type": "execute_result"
    }
   ],
   "source": [
    "#构造简单数据集\n",
    "import numpy as np\n",
    "def loadSimData():\n",
    "    dataArr = np.array([[1,2.1],[2,1.1],[1.3,1],[1,1],[2,1]])\n",
    "    classLabels = [1,1,-1,-1,1]\n",
    "    return dataArr,classLabels\n",
    "#画出正反例\n",
    "import matplotlib.pyplot as plt\n",
    "dataArr,classLabels = loadSimData()\n",
    "plt.scatter(dataArr[2:4,0],dataArr[2:4,1],s=50,c='red',marker='s')\n",
    "plt.scatter(dataArr[0:2,0],dataArr[0:2,1],s=50,c='green',marker='o')\n",
    "plt.scatter(dataArr[4,0],dataArr[4,1],s=50,c='green',marker='o')"
   ]
  },
  {
   "cell_type": "code",
   "execution_count": 2,
   "metadata": {},
   "outputs": [],
   "source": [
    "#dataArr为数据集，dimen为特征维数，threshVal为阈值，threshIneq可以在大于、小于之间切换\n",
    "def stumpClassify(dataArr,dimen,threshVal,threshIneq):\n",
    "    dataMat = np.mat(dataArr)\n",
    "    retMat = np.mat(np.ones([dataMat.shape[0],1]))#将初始标签都置为1 \n",
    "    if threshIneq == 'forward':\n",
    "        retMat[dataMat[:,dimen]<=threshVal] = -1.0#小于等于阈值为-1\n",
    "    else:\n",
    "        retMat[dataMat[:,dimen]>threshVal] = -1.0#大于阈值为-1\n",
    "    return retMat"
   ]
  },
  {
   "cell_type": "code",
   "execution_count": 11,
   "metadata": {},
   "outputs": [],
   "source": [
    "#dataArr微数据集，classLabels为数据标签，D为权重向量\n",
    "def buildStump(dataArr,classLabels,D):\n",
    "    dataMat = np.mat(dataArr);labelMat = np.mat(classLabels).T#将数组ndarray格式转化为矩阵格式\n",
    "    m,n = dataMat.shape\n",
    "    numSteps = 10.0;bestStump = {};bestClassEstimate = np.mat(np.zeros([m,1]))\n",
    "    minErrRate = np.inf#将最小错误率初始值设为无穷大，以便下面寻找最小错误率\n",
    "    for i in range(n):#在所有维数即所有特征上循环\n",
    "        rangeMin = dataMat[:,i].min();rangeMax = dataMat[:,i].max()\n",
    "        stepSize = (rangeMax - rangeMin)/numSteps\n",
    "        for j in range(-1,int(numSteps+1)):#在当前维数即当前特征上遍历所有阈值\n",
    "            for inequal in ['forward','reverse']:#在大于小于之间切换，即大于阈值为正例还是负例之间切换\n",
    "                threshVal = rangeMin + float(j)*stepSize\n",
    "                predictClass = stumpClassify(dataArr,i,threshVal,inequal)\n",
    "                #构建一个列向量errArr，如果predictClass中的值不等于labelMat中的值，那么errArr相应中的值为1，相等置为0\n",
    "                errArr = np.mat(np.ones([m,1]))\n",
    "                errArr[predictClass==labelMat] = 0\n",
    "                weightError = D.T*errArr#相当于计算分类错误率\n",
    "                #print(\"split:dim %d,thresh:%.2f,inequal:%s,weightError:%.2f\"%(i,threshVal,inequal,weightError))\n",
    "                if weightError<minErrRate:\n",
    "                    minErrRate = weightError\n",
    "                    bestClassEstimate = predictClass.copy()\n",
    "                    bestStump['dim'] = i\n",
    "                    bestStump['thresh'] = threshVal\n",
    "                    bestStump['inequal'] = inequal\n",
    "    return bestStump,minErrRate,bestClassEstimate"
   ]
  },
  {
   "cell_type": "code",
   "execution_count": 12,
   "metadata": {
    "scrolled": true
   },
   "outputs": [
    {
     "data": {
      "text/plain": [
       "({'dim': 0, 'thresh': 1.3, 'inequal': 'forward'},\n",
       " matrix([[0.2]]),\n",
       " matrix([[-1.],\n",
       "         [ 1.],\n",
       "         [-1.],\n",
       "         [-1.],\n",
       "         [ 1.]]))"
      ]
     },
     "execution_count": 12,
     "metadata": {},
     "output_type": "execute_result"
    }
   ],
   "source": [
    "D = np.mat(np.ones([5,1])/5)\n",
    "buildStump(dataArr,classLabels,D)"
   ]
  },
  {
   "cell_type": "markdown",
   "metadata": {},
   "source": [
    "### 2.基于单层决策树的Adaboost训练过程"
   ]
  },
  {
   "cell_type": "code",
   "execution_count": 13,
   "metadata": {},
   "outputs": [],
   "source": [
    "def adaBoostTrain(dataArr,classLabels,Iter):\n",
    "    weakClassify = []#创建一个弱分类器列表，用于存放弱分类器\n",
    "    m = dataArr.shape[0]#样本数量\n",
    "    D = np.mat(np.ones([m,1])/m)#初始化样本权重向量\n",
    "    aggClassEsti = np.mat(np.zeros([m,1]))#记录每个数据点的估计累计值\n",
    "    for i in range(Iter):\n",
    "        bestStump,minErrRate,bestClassEstimate = buildStump(dataArr,classLabels,D)\n",
    "        #print(\"D:\",D.T)\n",
    "        alpha = 0.5*np.log((1-minErrRate)/max(minErrRate,np.exp(-16)))#分配该弱分类器的权重alpha\n",
    "        alpha = float(alpha)#上面得到的alpha为一个矩阵形式\n",
    "        bestStump['alpha'] = alpha\n",
    "        weakClassify.append(bestStump)#存储弱分类器\n",
    "        #print(\"estimate:\",bestClassEstimate.T)\n",
    "        \n",
    "        #为下一次迭代做准备，重新分配样本权重向量，上一次分对的样本权重将会减小，分错的样本权重将会增大\n",
    "        expon = np.multiply(-alpha*np.mat(classLabels).T,bestClassEstimate)\n",
    "        D = np.multiply(D,np.exp(expon))\n",
    "        D = D/D.sum()\n",
    "        \n",
    "        aggClassEsti += alpha*bestClassEstimate#记录每个数据点的估计累计值\n",
    "       # print(\"aggClassEsti\",aggClassEsti.T)\n",
    "        \n",
    "        retMat = np.mat(np.zeros([m,1]))\n",
    "        retMat[np.sign(aggClassEsti)!=np.mat(classLabels).T] = 1#为了得到二分类结果需要用到硬极限函数\n",
    "        errRate = retMat.sum()/m#错误率\n",
    "        print(\"total errRate:\",errRate)\n",
    "        if errRate == 0:break\n",
    "    return weakClassify,aggClassEsti"
   ]
  },
  {
   "cell_type": "code",
   "execution_count": 14,
   "metadata": {},
   "outputs": [
    {
     "name": "stdout",
     "output_type": "stream",
     "text": [
      "total errRate: 0.2\n",
      "total errRate: 0.2\n",
      "total errRate: 0.0\n"
     ]
    }
   ],
   "source": [
    "weakClassify,aggClassEsti = adaBoostTrain(dataArr,classLabels,40)"
   ]
  },
  {
   "cell_type": "code",
   "execution_count": 153,
   "metadata": {},
   "outputs": [
    {
     "data": {
      "text/plain": [
       "[{'dim': 0, 'thresh': 1.3, 'inequal': 'forward', 'alpha': 0.6931471805599453},\n",
       " {'dim': 1, 'thresh': 1.0, 'inequal': 'forward', 'alpha': 0.9729550745276565},\n",
       " {'dim': 0, 'thresh': 0.9, 'inequal': 'forward', 'alpha': 0.8958797346140273}]"
      ]
     },
     "execution_count": 153,
     "metadata": {},
     "output_type": "execute_result"
    }
   ],
   "source": [
    "weakClassify"
   ]
  },
  {
   "cell_type": "markdown",
   "metadata": {},
   "source": [
    "### 3.测试算法：基于AdaBoost的分类"
   ]
  },
  {
   "cell_type": "code",
   "execution_count": 154,
   "metadata": {},
   "outputs": [],
   "source": [
    "def adaboostClassify(data,weakClassify):\n",
    "    m = data.shape[0]\n",
    "    aggClassEst = np.mat(np.zeros([m,1]))\n",
    "    for i in range(len(weakClassify)):\n",
    "        classEst = stumpClassify(data,weakClassify[i]['dim'],weakClassify[i]['thresh'],weakClassify[i]['inequal'])\n",
    "        aggClassEst += weakClassify[i]['alpha']*classEst\n",
    "        #print(aggClassEst)\n",
    "    return np.sign(aggClassEst)"
   ]
  },
  {
   "cell_type": "code",
   "execution_count": 155,
   "metadata": {},
   "outputs": [
    {
     "data": {
      "text/plain": [
       "matrix([[-1.]])"
      ]
     },
     "execution_count": 155,
     "metadata": {},
     "output_type": "execute_result"
    }
   ],
   "source": [
    "adaboostClassify(np.array([[0,0]]),weakClassify)"
   ]
  },
  {
   "cell_type": "code",
   "execution_count": 156,
   "metadata": {},
   "outputs": [
    {
     "data": {
      "text/plain": [
       "matrix([[ 1.],\n",
       "        [ 1.],\n",
       "        [-1.],\n",
       "        [-1.],\n",
       "        [ 1.]])"
      ]
     },
     "execution_count": 156,
     "metadata": {},
     "output_type": "execute_result"
    }
   ],
   "source": [
    "adaboostClassify(dataArr,weakClassify)"
   ]
  },
  {
   "cell_type": "markdown",
   "metadata": {},
   "source": [
    "### 4.在一个难数据集上应用Adaboost"
   ]
  },
  {
   "cell_type": "code",
   "execution_count": 157,
   "metadata": {},
   "outputs": [],
   "source": [
    "#这里将在马疝病数据集上应用AdaBoost分类器，前面曾经用过逻辑回归预测患有疝病的马是否能够存活，\n",
    "#这里想知道利用多个单层决策树和Adaboost能不能预测得更准\n",
    "#1.自适应加载数据\n",
    "def loadDataSet(filename):\n",
    "    numFeat = len(open(filename).readline().split('\\t'))#自动检测出特征数，假定最后一个为类别标签\n",
    "    dataList = [];labelList = []\n",
    "    fr = open(filename)\n",
    "    for line in fr.readlines():\n",
    "        lineArr = []\n",
    "        curLine = line.split('\\t')\n",
    "        for i in range(numFeat-1):\n",
    "            lineArr.append(float(curLine[i]))\n",
    "        dataList.append(lineArr)\n",
    "        labelList.append(float(curLine[-1]))\n",
    "    return dataList,labelList"
   ]
  },
  {
   "cell_type": "code",
   "execution_count": 187,
   "metadata": {
    "collapsed": true
   },
   "outputs": [
    {
     "name": "stdout",
     "output_type": "stream",
     "text": [
      "total errRate: 0.2842809364548495\n",
      "total errRate: 0.2842809364548495\n",
      "total errRate: 0.24749163879598662\n",
      "total errRate: 0.24749163879598662\n",
      "total errRate: 0.25418060200668896\n",
      "total errRate: 0.2408026755852843\n",
      "total errRate: 0.2408026755852843\n",
      "total errRate: 0.22073578595317725\n",
      "total errRate: 0.24749163879598662\n",
      "total errRate: 0.23076923076923078\n"
     ]
    }
   ],
   "source": [
    "trainData,trainLabel = loadDataSet('horseColicTraining2.txt')\n",
    "dataArr2 = np.array(trainData)\n",
    "weakClassify,aggClassEsti = adaBoostTrain(dataArr2,labelList,Iter = 10)"
   ]
  },
  {
   "cell_type": "code",
   "execution_count": 188,
   "metadata": {},
   "outputs": [
    {
     "name": "stdout",
     "output_type": "stream",
     "text": [
      "the rate of error is 0.24\n"
     ]
    }
   ],
   "source": [
    "testData,testLabel = loadDataSet('horseColicTest2.txt')\n",
    "testArr = np.array(testData)\n",
    "predictLabel = adaboostClassify(testArr,weakClassify)\n",
    "m = testArr.shape[0]\n",
    "errNum = np.mat(np.zeros([m,1]))\n",
    "errNum[predictLabel!=np.mat(testLabel).T] = 1\n",
    "print('the rate of error is %.2f'%(errNum.sum()/m))"
   ]
  },
  {
   "cell_type": "code",
   "execution_count": null,
   "metadata": {},
   "outputs": [],
   "source": []
  }
 ],
 "metadata": {
  "kernelspec": {
   "display_name": "Python 3",
   "language": "python",
   "name": "python3"
  },
  "language_info": {
   "codemirror_mode": {
    "name": "ipython",
    "version": 3
   },
   "file_extension": ".py",
   "mimetype": "text/x-python",
   "name": "python",
   "nbconvert_exporter": "python",
   "pygments_lexer": "ipython3",
   "version": "3.6.6"
  }
 },
 "nbformat": 4,
 "nbformat_minor": 2
}
