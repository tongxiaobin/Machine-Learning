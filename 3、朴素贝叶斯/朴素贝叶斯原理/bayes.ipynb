{
 "cells": [
  {
   "cell_type": "markdown",
   "metadata": {},
   "source": [
    "### 1.加载数据"
   ]
  },
  {
   "cell_type": "code",
   "execution_count": 28,
   "metadata": {},
   "outputs": [],
   "source": [
    "def loadDataSet():\n",
    "    dataSet = [['my','dog','has','flea','problems','help','please'],\n",
    "               ['maybe','not','take','him','to','dog','park','stupid'],\n",
    "               ['my','dalmation','is','so','cute','I','love','him'],\n",
    "               ['stop','posting','stupid','worthless','garbage'],\n",
    "               ['mr','licks','ate','my','steak','how','to','stop','him'],\n",
    "               ['quit','buying','worthless','dog','food','stupid']]\n",
    "    classLabel = [0,1,0,1,0,1]    \n",
    "    return dataSet,classLabel "
   ]
  },
  {
   "cell_type": "code",
   "execution_count": 29,
   "metadata": {},
   "outputs": [
    {
     "data": {
      "text/plain": [
       "[['my', 'dog', 'has', 'flea', 'problems', 'help', 'please'],\n",
       " ['maybe', 'not', 'take', 'him', 'to', 'dog', 'park', 'stupid'],\n",
       " ['my', 'dalmation', 'is', 'so', 'cute', 'I', 'love', 'him'],\n",
       " ['stop', 'posting', 'stupid', 'worthless', 'garbage'],\n",
       " ['mr', 'licks', 'ate', 'my', 'steak', 'how', 'to', 'stop', 'him'],\n",
       " ['quit', 'buying', 'worthless', 'dog', 'food', 'stupid']]"
      ]
     },
     "execution_count": 29,
     "metadata": {},
     "output_type": "execute_result"
    }
   ],
   "source": [
    "dataSet,classLabel = loadDataSet()\n",
    "dataSet"
   ]
  },
  {
   "cell_type": "markdown",
   "metadata": {},
   "source": [
    "### 2.创建一个在所有文档中出现的不重复的词表"
   ]
  },
  {
   "cell_type": "code",
   "execution_count": 33,
   "metadata": {},
   "outputs": [],
   "source": [
    "def vocabularyTable(dataSet):\n",
    "    vocabSet = set([])\n",
    "    for document in dataSet:\n",
    "        vocabSet = vocabSet | set(document)\n",
    "    return list(vocabSet)"
   ]
  },
  {
   "cell_type": "code",
   "execution_count": 34,
   "metadata": {
    "collapsed": true
   },
   "outputs": [
    {
     "data": {
      "text/plain": [
       "['worthless',\n",
       " 'to',\n",
       " 'posting',\n",
       " 'has',\n",
       " 'my',\n",
       " 'ate',\n",
       " 'I',\n",
       " 'buying',\n",
       " 'flea',\n",
       " 'love',\n",
       " 'stop',\n",
       " 'licks',\n",
       " 'please',\n",
       " 'dalmation',\n",
       " 'mr',\n",
       " 'maybe',\n",
       " 'him',\n",
       " 'not',\n",
       " 'so',\n",
       " 'garbage',\n",
       " 'help',\n",
       " 'dog',\n",
       " 'steak',\n",
       " 'take',\n",
       " 'quit',\n",
       " 'problems',\n",
       " 'cute',\n",
       " 'stupid',\n",
       " 'how',\n",
       " 'is',\n",
       " 'food',\n",
       " 'park']"
      ]
     },
     "execution_count": 34,
     "metadata": {},
     "output_type": "execute_result"
    }
   ],
   "source": [
    "vocabSet = vocabularyTable(dataSet)\n",
    "vocabSet"
   ]
  },
  {
   "cell_type": "markdown",
   "metadata": {},
   "source": [
    "### 3.对于每一个文档，即每一条评论，生成一个文档向量\n",
    "### 首先创建一个和词表长度一样长的向量，并将其元素都置为0，\n",
    "### 接着遍历文档中的所有单词，如果在词表中出现，则将文档向量中对应值设为1"
   ]
  },
  {
   "cell_type": "code",
   "execution_count": 35,
   "metadata": {},
   "outputs": [],
   "source": [
    "def doc2vec(vocabSet,document):\n",
    "    docVec = [0]*len(vocabSet)\n",
    "    for word in document:\n",
    "        if (word in vocabSet):\n",
    "            docVec[vocabSet.index(word)] = 1\n",
    "    return docVec        "
   ]
  },
  {
   "cell_type": "code",
   "execution_count": 36,
   "metadata": {
    "collapsed": true
   },
   "outputs": [
    {
     "data": {
      "text/plain": [
       "[0,\n",
       " 0,\n",
       " 0,\n",
       " 1,\n",
       " 1,\n",
       " 0,\n",
       " 0,\n",
       " 0,\n",
       " 1,\n",
       " 0,\n",
       " 0,\n",
       " 0,\n",
       " 1,\n",
       " 0,\n",
       " 0,\n",
       " 0,\n",
       " 0,\n",
       " 0,\n",
       " 0,\n",
       " 0,\n",
       " 1,\n",
       " 1,\n",
       " 0,\n",
       " 0,\n",
       " 0,\n",
       " 1,\n",
       " 0,\n",
       " 0,\n",
       " 0,\n",
       " 0,\n",
       " 0,\n",
       " 0]"
      ]
     },
     "execution_count": 36,
     "metadata": {},
     "output_type": "execute_result"
    }
   ],
   "source": [
    "docVec = doc2vec(vocabSet,dataSet[0])\n",
    "docVec"
   ]
  },
  {
   "cell_type": "markdown",
   "metadata": {},
   "source": [
    "### 4.训练贝叶斯分类器训练函数"
   ]
  },
  {
   "cell_type": "code",
   "execution_count": 37,
   "metadata": {},
   "outputs": [],
   "source": [
    "import numpy as np\n",
    "def trainBayes(trainVec,classLabel):\n",
    "    numData = len(trainVec)\n",
    "    numWords = len(trainVec[0])\n",
    "    pAbusive = sum(classLabel)/float(numData)\n",
    "    p0num = np.zeros(numWords); p1num = np.zeros(numWords)\n",
    "    p0sum = 0.0; p1sum = 0.0\n",
    "    for i in range(numData):\n",
    "        if(classLabel[i]==1):\n",
    "            p1num += trainVec[i]\n",
    "            p1sum += sum(trainVec[i])\n",
    "        else:\n",
    "            p0num += trainVec[i]\n",
    "            p0sum += sum(trainVec[i])\n",
    "    p1Vect = p1num/p1sum\n",
    "    p0Vect = p0num/p0sum\n",
    "    return pAbusive,p1Vect,p0Vect"
   ]
  },
  {
   "cell_type": "code",
   "execution_count": 38,
   "metadata": {},
   "outputs": [],
   "source": [
    "trainVec = []\n",
    "for document in dataSet:\n",
    "    trainVec.append(doc2vec(vocabSet,document))"
   ]
  },
  {
   "cell_type": "code",
   "execution_count": 39,
   "metadata": {},
   "outputs": [],
   "source": [
    "pAbusive,p1Vect,p0Vect =  trainBayes(trainVec,classLabel)"
   ]
  },
  {
   "cell_type": "code",
   "execution_count": 40,
   "metadata": {},
   "outputs": [
    {
     "data": {
      "text/plain": [
       "0.5"
      ]
     },
     "execution_count": 40,
     "metadata": {},
     "output_type": "execute_result"
    }
   ],
   "source": [
    "pAbusive"
   ]
  },
  {
   "cell_type": "code",
   "execution_count": 41,
   "metadata": {},
   "outputs": [
    {
     "data": {
      "text/plain": [
       "array([0.10526316, 0.05263158, 0.05263158, 0.        , 0.        ,\n",
       "       0.        , 0.        , 0.05263158, 0.        , 0.        ,\n",
       "       0.05263158, 0.        , 0.        , 0.        , 0.        ,\n",
       "       0.05263158, 0.05263158, 0.05263158, 0.        , 0.05263158,\n",
       "       0.        , 0.10526316, 0.        , 0.05263158, 0.05263158,\n",
       "       0.        , 0.        , 0.15789474, 0.        , 0.        ,\n",
       "       0.05263158, 0.05263158])"
      ]
     },
     "execution_count": 41,
     "metadata": {},
     "output_type": "execute_result"
    }
   ],
   "source": [
    "p1Vect"
   ]
  },
  {
   "cell_type": "code",
   "execution_count": 42,
   "metadata": {},
   "outputs": [
    {
     "data": {
      "text/plain": [
       "array([0.        , 0.04166667, 0.        , 0.04166667, 0.125     ,\n",
       "       0.04166667, 0.04166667, 0.        , 0.04166667, 0.04166667,\n",
       "       0.04166667, 0.04166667, 0.04166667, 0.04166667, 0.04166667,\n",
       "       0.        , 0.08333333, 0.        , 0.04166667, 0.        ,\n",
       "       0.04166667, 0.04166667, 0.04166667, 0.        , 0.        ,\n",
       "       0.04166667, 0.04166667, 0.        , 0.04166667, 0.04166667,\n",
       "       0.        , 0.        ])"
      ]
     },
     "execution_count": 42,
     "metadata": {},
     "output_type": "execute_result"
    }
   ],
   "source": [
    "p0Vect"
   ]
  },
  {
   "cell_type": "code",
   "execution_count": 43,
   "metadata": {},
   "outputs": [
    {
     "data": {
      "text/plain": [
       "['worthless',\n",
       " 'to',\n",
       " 'posting',\n",
       " 'has',\n",
       " 'my',\n",
       " 'ate',\n",
       " 'I',\n",
       " 'buying',\n",
       " 'flea',\n",
       " 'love',\n",
       " 'stop',\n",
       " 'licks',\n",
       " 'please',\n",
       " 'dalmation',\n",
       " 'mr',\n",
       " 'maybe',\n",
       " 'him',\n",
       " 'not',\n",
       " 'so',\n",
       " 'garbage',\n",
       " 'help',\n",
       " 'dog',\n",
       " 'steak',\n",
       " 'take',\n",
       " 'quit',\n",
       " 'problems',\n",
       " 'cute',\n",
       " 'stupid',\n",
       " 'how',\n",
       " 'is',\n",
       " 'food',\n",
       " 'park']"
      ]
     },
     "execution_count": 43,
     "metadata": {},
     "output_type": "execute_result"
    }
   ],
   "source": [
    "vocabSet"
   ]
  },
  {
   "cell_type": "code",
   "execution_count": 44,
   "metadata": {},
   "outputs": [],
   "source": [
    "#我们可看到导数第三个概率分别是0与0.04166667，词汇表的倒数第三个单词是cute，其在类别0中出现1次，在类别1中未出现\n",
    "#我们找到所有概率中的最大值，该值出现在p1Vect的第20个位置，大小为0.15789474，词汇表的第20个位置单词是stupid,\n",
    "#这意味着stupid是最能表征类别1（侮辱性文档类）的单词。"
   ]
  },
  {
   "cell_type": "markdown",
   "metadata": {},
   "source": [
    "### 5.根据现实情况修改分类器"
   ]
  },
  {
   "cell_type": "code",
   "execution_count": 45,
   "metadata": {},
   "outputs": [],
   "source": [
    "import numpy as np\n",
    "import math\n",
    "def trainBayes(trainVec,classLabel):\n",
    "    numData = len(trainVec)\n",
    "    numWords = len(trainVec[0])\n",
    "    pAbusive = sum(classLabel)/float(numData)\n",
    "    p0num = np.ones(numWords); p1num = np.ones(numWords)\n",
    "    p0sum = 2; p1sum = 2\n",
    "    for i in range(numData):\n",
    "        if(classLabel[i]==1):\n",
    "            p1num += trainVec[i]\n",
    "            p1sum += sum(trainVec[i])\n",
    "        else:\n",
    "            p0num += trainVec[i]\n",
    "            p0sum += sum(trainVec[i])\n",
    "    for i in range(numWords):\n",
    "        p1Vect[i] = math.log(p1num[i]/p1sum)\n",
    "        p0Vect[i] = math.log(p0num[i]/p0sum)\n",
    "    return pAbusive,p1Vect,p0Vect"
   ]
  },
  {
   "cell_type": "markdown",
   "metadata": {},
   "source": [
    "### 6.朴素贝叶斯分类函数"
   ]
  },
  {
   "cell_type": "code",
   "execution_count": 46,
   "metadata": {},
   "outputs": [],
   "source": [
    "def classify(docVec,pClass1,p1Vect,p0Vect):\n",
    "    p1 = sum(docVec * p1Vect)+math.log(pClass1)\n",
    "    p0 = sum(docVec *p0Vect) +math.log(1-pClass1)\n",
    "    if(p1>p0):\n",
    "        return 1\n",
    "    else:\n",
    "        return 0"
   ]
  },
  {
   "cell_type": "code",
   "execution_count": 47,
   "metadata": {},
   "outputs": [
    {
     "data": {
      "text/plain": [
       "0"
      ]
     },
     "execution_count": 47,
     "metadata": {},
     "output_type": "execute_result"
    }
   ],
   "source": [
    "test = ['love','my','dalmation']\n",
    "testVec = doc2vec(vocabSet,test)\n",
    "pClass1,p1Vect,p0Vect = trainBayes(trainVec,classLabel)\n",
    "classify(testVec,pClass1,p1Vect,p0Vect)"
   ]
  },
  {
   "cell_type": "code",
   "execution_count": 50,
   "metadata": {},
   "outputs": [
    {
     "data": {
      "text/plain": [
       "1"
      ]
     },
     "execution_count": 50,
     "metadata": {},
     "output_type": "execute_result"
    }
   ],
   "source": [
    "test = ['stupid','garbage']\n",
    "testVec = doc2vec(vocabSet,test)\n",
    "pClass1,p1Vect,p0Vect = trainBayes(trainVec,classLabel)\n",
    "classify(testVec,pClass1,p1Vect,p0Vect)"
   ]
  },
  {
   "cell_type": "code",
   "execution_count": 51,
   "metadata": {},
   "outputs": [
    {
     "data": {
      "text/plain": [
       "0"
      ]
     },
     "execution_count": 51,
     "metadata": {},
     "output_type": "execute_result"
    }
   ],
   "source": [
    "#对训练集进行测试\n",
    "test = dataSet[0]\n",
    "testVec = doc2vec(vocabSet,test)\n",
    "pClass1,p1Vect,p0Vect = trainBayes(trainVec,classLabel)\n",
    "classify(testVec,pClass1,p1Vect,p0Vect)"
   ]
  },
  {
   "cell_type": "code",
   "execution_count": null,
   "metadata": {},
   "outputs": [],
   "source": []
  }
 ],
 "metadata": {
  "kernelspec": {
   "display_name": "Python 3",
   "language": "python",
   "name": "python3"
  },
  "language_info": {
   "codemirror_mode": {
    "name": "ipython",
    "version": 3
   },
   "file_extension": ".py",
   "mimetype": "text/x-python",
   "name": "python",
   "nbconvert_exporter": "python",
   "pygments_lexer": "ipython3",
   "version": "3.6.6"
  }
 },
 "nbformat": 4,
 "nbformat_minor": 2
}
