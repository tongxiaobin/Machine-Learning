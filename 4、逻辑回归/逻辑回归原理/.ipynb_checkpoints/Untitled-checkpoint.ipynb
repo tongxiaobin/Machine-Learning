{
 "cells": [
  {
   "cell_type": "markdown",
   "metadata": {},
   "source": [
    "## 1.理解梯度上升算法：求-x^2+4x的最大值"
   ]
  },
  {
   "cell_type": "code",
   "execution_count": 23,
   "metadata": {},
   "outputs": [],
   "source": [
    "def gradient(x):\n",
    "    return -2*x+4\n",
    "\n",
    "def gradient_Ascent():\n",
    "    x_old = 0\n",
    "    x_new = 1\n",
    "    alpha = 0.001\n",
    "    permission = 0.000001\n",
    "    while(x_new-x_old>permission):#也可以设置最大迭代次数作为终止条件\n",
    "        x_old = x_new\n",
    "        x_new = x_old + alpha*gradient(x_old)\n",
    "    return x_new"
   ]
  },
  {
   "cell_type": "code",
   "execution_count": 24,
   "metadata": {
    "scrolled": true
   },
   "outputs": [
    {
     "data": {
      "text/plain": [
       "1.9995013500160062"
      ]
     },
     "execution_count": 24,
     "metadata": {},
     "output_type": "execute_result"
    }
   ],
   "source": [
    "gradient_Ascent()"
   ]
  },
  {
   "cell_type": "markdown",
   "metadata": {},
   "source": [
    "## 2.逻辑回归中用梯度下降算法求回归系数"
   ]
  },
  {
   "cell_type": "code",
   "execution_count": 1,
   "metadata": {},
   "outputs": [],
   "source": [
    "import numpy as np\n",
    "from numpy import  mat\n",
    "def loadDataSet():\n",
    "    dataSet = [];classLabels = []\n",
    "    fr = open('testSet.txt')\n",
    "    for line in fr.readlines():\n",
    "        lineArr = line.strip().split()\n",
    "        dataSet.append([1,float(lineArr[0]),float(lineArr[1])])\n",
    "        classLabels.append(int(lineArr[2]))\n",
    "    return dataSet,classLabels\n",
    "#S型函数，任何数都可以通过该函数映射到0和1之间，而且h'(z) = h(z)(1-h(z))\n",
    "def sigmoid(Z):\n",
    "    return 1.0/(1+np.exp(-Z))\n",
    "\n",
    "#逻辑回归梯度下降算法\n",
    "def gradient_dscent(dataSet,classLabels):\n",
    "    dataMat = mat(dataSet)\n",
    "    labelMat = mat(classLabels).T\n",
    "    m,n = dataMat.shape\n",
    "    alpha = 0.001\n",
    "    Iteration = 500\n",
    "    weight = mat(np.ones((n,1)))\n",
    "    for i in range(Iteration):\n",
    "        h = sigmoid(dataMat*weight)\n",
    "        error = h - labelMat\n",
    "        weight = weight -alpha*dataMat.T*error\n",
    "    return weight"
   ]
  },
  {
   "cell_type": "code",
   "execution_count": 2,
   "metadata": {
    "scrolled": true
   },
   "outputs": [
    {
     "data": {
      "text/plain": [
       "matrix([[ 4.12414349],\n",
       "        [ 0.48007329],\n",
       "        [-0.6168482 ]])"
      ]
     },
     "execution_count": 2,
     "metadata": {},
     "output_type": "execute_result"
    }
   ],
   "source": [
    "dataSet,classLabels = loadDataSet()\n",
    "weight = gradient_dscent(dataSet,classLabels)\n",
    "weight"
   ]
  },
  {
   "cell_type": "markdown",
   "metadata": {},
   "source": [
    "## 3.通过求解的回归系数画出决策边界"
   ]
  },
  {
   "cell_type": "code",
   "execution_count": 3,
   "metadata": {},
   "outputs": [],
   "source": [
    "#画出决策边界\n",
    "import matplotlib.pyplot as plt\n",
    "def plotBestFit(w):\n",
    "    dataSet,classLabels = loadDataSet()\n",
    "    dataArr = np.array(dataSet)\n",
    "    n = dataArr.shape[0]\n",
    "    xcord1 = []; ycord1 = []\n",
    "    xcord2 = []; ycord2 = []\n",
    "    for i in range(n):\n",
    "        if(classLabels[i]==1):\n",
    "            xcord1.append(dataArr[i,1]);ycord1.append(dataArr[i,2])\n",
    "        else:\n",
    "            xcord2.append(dataArr[i,1]);ycord2.append(dataArr[i,2])\n",
    "    plt.subplot(1,1,1)\n",
    "    plt.scatter(xcord1,ycord1,s = 30,c = 'red',marker = 's')\n",
    "    plt.scatter(xcord2,ycord2,s = 30,c = 'green',marker = 'o')\n",
    "    x = np.arange(-3.0,3.0,0.1)\n",
    "    y = (-w[0]-w[1]*x)/w[2]\n",
    "    plt.plot(x,y)\n",
    "    plt.xlabel('X1');plt.ylabel('X2')"
   ]
  },
  {
   "cell_type": "code",
   "execution_count": 4,
   "metadata": {
    "scrolled": true
   },
   "outputs": [
    {
     "data": {
      "image/png": "[encoded data removed]",
      "text/plain": [
       "<Figure size 432x288 with 1 Axes>"
      ]
     },
     "metadata": {},
     "output_type": "display_data"
    }
   ],
   "source": [
    "plotBestFit(np.array((weight)))"
   ]
  },
  {
   "cell_type": "markdown",
   "metadata": {},
   "source": [
    "## 4.随机梯度下降算法"
   ]
  },
  {
   "cell_type": "code",
   "execution_count": 64,
   "metadata": {},
   "outputs": [],
   "source": [
    "def stocGradDesc(dataSet,classLabels):\n",
    "    a = np.array(dataSet)\n",
    "    b = np.array(classLabels)\n",
    "    m,n = a.shape\n",
    "    alpha = 0.01\n",
    "    weight2 = np.ones((1,3))\n",
    "    for j in range(200):#在整个数据集上运行200次\n",
    "        for i in range(m):\n",
    "            h = sigmoid(np.sum(a[i]*weight2))#注意是按列求和\n",
    "            error = h - b[i]\n",
    "            weight2 = weight2 - alpha*a[i]*error\n",
    "    return weight2"
   ]
  },
  {
   "cell_type": "code",
   "execution_count": 65,
   "metadata": {
    "scrolled": true
   },
   "outputs": [
    {
     "name": "stdout",
     "output_type": "stream",
     "text": [
      "[[ 7.11282257  0.7158515  -1.0490159 ]]\n"
     ]
    },
    {
     "data": {
      "image/png": "[encoded data removed]",
      "text/plain": [
       "<Figure size 432x288 with 1 Axes>"
      ]
     },
     "metadata": {},
     "output_type": "display_data"
    }
   ],
   "source": [
    "weight2 = stocGradDesc(dataSet,classLabels)\n",
    "print(weight2)\n",
    "plotBestFit(np.array((weight2.reshape(-1,1))))"
   ]
  },
  {
   "cell_type": "markdown",
   "metadata": {},
   "source": [
    "## 5.改进的随机梯度下降算法\n",
    "### alpha随着迭代次数不断减小\n",
    "### 通过随机选取样本来更新回归系数"
   ]
  },
  {
   "cell_type": "code",
   "execution_count": 90,
   "metadata": {},
   "outputs": [],
   "source": [
    "def stocGradDesc2(dataSet,classLabels):\n",
    "    a = np.array(dataSet)\n",
    "    b = np.array(classLabels)\n",
    "    m,n = a.shape\n",
    "    weight3 = np.ones((1,3))\n",
    "    for j in range(40):\n",
    "        dataIndex = list(range(m))\n",
    "        for i in range(m):\n",
    "            alpha = 2/(1.0+j+i)+0.01#alpha随着迭代次数不断减小\n",
    "            randIndex = int(np.random.uniform(0,len(dataIndex)))#通过随机选取样本来更新回归系数\n",
    "            h = sigmoid(np.sum(a[randIndex]*weight3))\n",
    "            error = h - b[randIndex]\n",
    "            weight3 = weight3 - alpha*a[randIndex]*error\n",
    "            del(dataIndex[randIndex])\n",
    "    return weight3"
   ]
  },
  {
   "cell_type": "code",
   "execution_count": 91,
   "metadata": {},
   "outputs": [
    {
     "name": "stdout",
     "output_type": "stream",
     "text": [
      "[[ 8.93535984  0.39679347 -1.21453647]]\n"
     ]
    },
    {
     "data": {
      "image/png": "[encoded data removed]",
      "text/plain": [
       "<Figure size 432x288 with 1 Axes>"
      ]
     },
     "metadata": {},
     "output_type": "display_data"
    }
   ],
   "source": [
    "weight3 = stocGradDesc2(dataSet,classLabels)\n",
    "print(weight3)\n",
    "plotBestFit((weight3.reshape(-1,1)))"
   ]
  },
  {
   "cell_type": "code",
   "execution_count": null,
   "metadata": {},
   "outputs": [],
   "source": []
  }
 ],
 "metadata": {
  "kernelspec": {
   "display_name": "Python 3",
   "language": "python",
   "name": "python3"
  },
  "language_info": {
   "codemirror_mode": {
    "name": "ipython",
    "version": 3
   },
   "file_extension": ".py",
   "mimetype": "text/x-python",
   "name": "python",
   "nbconvert_exporter": "python",
   "pygments_lexer": "ipython3",
   "version": "3.6.6"
  }
 },
 "nbformat": 4,
 "nbformat_minor": 2
}
