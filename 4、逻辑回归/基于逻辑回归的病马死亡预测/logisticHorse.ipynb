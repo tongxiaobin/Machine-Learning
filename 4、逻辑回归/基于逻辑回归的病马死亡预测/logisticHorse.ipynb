{
 "cells": [
  {
   "cell_type": "code",
   "execution_count": 112,
   "metadata": {},
   "outputs": [],
   "source": [
    "import numpy as np\n",
    "#sigmoid函数\n",
    "def sigmoid(inX):\n",
    "    return 1.0/(1+np.exp(-inX))\n",
    "\n",
    "#随机梯度下降\n",
    "def stocGradDesc2(dataSet,classLabels):\n",
    "    a = np.array(dataSet)\n",
    "    b = np.array(classLabels)\n",
    "    m,n = a.shape\n",
    "    weight3 = np.ones((1,n))\n",
    "    for j in range(500):\n",
    "        dataIndex = list(range(m))\n",
    "        for i in range(m):\n",
    "            alpha = 4/(1.0+j+i)+0.01#alpha随着迭代次数不断减小\n",
    "            randIndex = int(np.random.uniform(0,len(dataIndex)))#通过随机选取样本来更新回归系数\n",
    "            h = sigmoid(np.sum(a[randIndex]*weight3))\n",
    "            error = h - b[randIndex]\n",
    "            weight3 = weight3 - alpha*a[randIndex]*error\n",
    "            del(dataIndex[randIndex])\n",
    "    return weight3"
   ]
  },
  {
   "cell_type": "code",
   "execution_count": 113,
   "metadata": {},
   "outputs": [],
   "source": [
    "#加载数据\n",
    "def loadDataSet():\n",
    "    frTrain = open('horseColicTraining.txt')\n",
    "    frTest = open('horseColicTest.txt')\n",
    "    trainingSet = []; trainingLabels = []\n",
    "    for line in frTrain.readlines():\n",
    "        currLine = line.strip().split('\\t')\n",
    "        lineArr = []\n",
    "        for i in range(21):\n",
    "            lineArr.extend([float(currLine[i])])\n",
    "        trainingSet.append(lineArr)\n",
    "        trainingLabels.append(float(currLine[21]))\n",
    "        \n",
    "    testSet = []; testLabels = []\n",
    "    for line in frTest.readlines():\n",
    "        currLine = line.strip().split('\\t')\n",
    "        lineArr2 = []\n",
    "        for i in range(21):\n",
    "            lineArr2.extend([float(currLine[i])])\n",
    "        testSet.append(lineArr2)\n",
    "        testLabels.append(float(currLine[21]))\n",
    "    return trainingSet,trainingLabels,testSet,testLabels\n",
    "\n",
    "#数据归一化并加上偏置值(不归一化容易造成数据溢出，如第一个数据的回归值为wx+b=161,映射时exp(-161)造成溢出)\n",
    "def normalization(dataSet):\n",
    "    a = np.array(dataSet)\n",
    "    maxVal = a.max(axis=0)\n",
    "    minVal = a.min(axis=0)\n",
    "    ranges = maxVal - minVal \n",
    "    row = a.shape[0]\n",
    "    norm_dataSet = (a-np.tile(minVal,(row,1)))/np.tile(ranges,(row,1))\n",
    "    #给归一化的数据加上偏置\n",
    "    row = norm_dataSet.shape[0]\n",
    "    bias = np.ones((row,1))\n",
    "    result_data = np.concatenate((bias,norm_dataSet),axis=1)\n",
    "    return result_data,minVal,ranges"
   ]
  },
  {
   "cell_type": "code",
   "execution_count": 114,
   "metadata": {
    "scrolled": true
   },
   "outputs": [
    {
     "data": {
      "text/plain": [
       "array([[ 0.22376636,  0.57119877, -0.37236691,  2.15074409, -5.25056075,\n",
       "         2.44080907, -0.35116321,  0.3368718 , -1.22715861, -0.87143034,\n",
       "        -1.31495085,  2.37425321, -2.43232399,  2.32679505,  1.35275329,\n",
       "        -3.02774493,  0.27464376, -0.3709735 , -0.44808423,  0.82925539,\n",
       "        -0.13798031, -0.54942317]])"
      ]
     },
     "execution_count": 114,
     "metadata": {},
     "output_type": "execute_result"
    }
   ],
   "source": [
    "trainingSet,trainingLabels,testSet,testLabels = loadDataSet()\n",
    "result_train,minVal,ranges = normalization(trainingSet)\n",
    "weight = stocGradDesc2(result_train,trainingLabels)\n",
    "weight"
   ]
  },
  {
   "cell_type": "code",
   "execution_count": 115,
   "metadata": {},
   "outputs": [],
   "source": [
    "#逻辑回归分类函数\n",
    "def classifyLogistic(inX,weight):\n",
    "    prob = sigmoid(np.sum(inX*weight))\n",
    "    if(prob>0.5):\n",
    "        return 1\n",
    "    else:\n",
    "        return 0"
   ]
  },
  {
   "cell_type": "code",
   "execution_count": 134,
   "metadata": {},
   "outputs": [
    {
     "name": "stdout",
     "output_type": "stream",
     "text": [
      "the error rate is 28.36%\n"
     ]
    }
   ],
   "source": [
    "#在测试集上测试\n",
    "#测试数据归一化\n",
    "numData = np.array(testSet).shape[0]\n",
    "norm_test = (testSet - np.tile(minVal,(numData,1)))/np.tile(ranges,(numData,1))\n",
    "bias_test = np.ones((numData,1))\n",
    "result_test = np.concatenate((bias_test,norm_test),axis=1)\n",
    "errorCount = 0.0\n",
    "for i in range(numData):\n",
    "    if(classifyLogistic(result_test[i],weight)!=testLabels[i]):\n",
    "        errorCount+=1\n",
    "print('the error rate is %.2f%%'%(100*errorCount/float(numData)))"
   ]
  },
  {
   "cell_type": "code",
   "execution_count": null,
   "metadata": {},
   "outputs": [],
   "source": []
  }
 ],
 "metadata": {
  "kernelspec": {
   "display_name": "Python 3",
   "language": "python",
   "name": "python3"
  },
  "language_info": {
   "codemirror_mode": {
    "name": "ipython",
    "version": 3
   },
   "file_extension": ".py",
   "mimetype": "text/x-python",
   "name": "python",
   "nbconvert_exporter": "python",
   "pygments_lexer": "ipython3",
   "version": "3.6.6"
  }
 },
 "nbformat": 4,
 "nbformat_minor": 2
}
