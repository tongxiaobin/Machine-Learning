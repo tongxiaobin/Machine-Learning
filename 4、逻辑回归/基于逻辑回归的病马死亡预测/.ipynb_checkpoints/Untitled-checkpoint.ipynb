{
 "cells": [
  {
   "cell_type": "code",
   "execution_count": 1,
   "metadata": {},
   "outputs": [],
   "source": [
    "import numpy as np\n",
    "#sigmoid函数\n",
    "def sigmoid(inX):\n",
    "    from numpy import exp\n",
    "    #return 1.0/(1+exp(-inX))\n",
    "    #优化20180412\n",
    "    if inX>=0:\n",
    "        return 1.0/(1+exp(-inX))\n",
    "    else:\n",
    "        return exp(inX)/(1+exp(inX))\n",
    "\n",
    "#随机梯度下降\n",
    "def stocGradDesc2(dataSet,classLabels):\n",
    "    a = np.array(dataSet)\n",
    "    b = np.array(classLabels)\n",
    "    m,n = a.shape\n",
    "    weight3 = np.ones((1,n))\n",
    "    for j in range(200):\n",
    "        dataIndex = list(range(m))\n",
    "        for i in range(m):\n",
    "            alpha = 4/(1.0+j+i)+0.01#alpha随着迭代次数不断减小\n",
    "            randIndex = int(np.random.uniform(0,len(dataIndex)))#通过随机选取样本来更新回归系数\n",
    "            h = sigmoid(np.sum(a[randIndex]*weight3))\n",
    "            error = h - b[randIndex]\n",
    "            weight3 = weight3 - alpha*a[randIndex]*error\n",
    "            del(dataIndex[randIndex])\n",
    "    return weight3"
   ]
  },
  {
   "cell_type": "code",
   "execution_count": 2,
   "metadata": {},
   "outputs": [],
   "source": [
    "frTrain = open('horseColicTraining.txt')\n",
    "frTest = open('horseColicTest.txt')\n",
    "trainingSet = []; trainingLabels = []\n",
    "for line in frTrain.readlines():\n",
    "    currLine = line.strip().split('\\t')\n",
    "    lineArr = []\n",
    "    for i in range(21):\n",
    "        lineArr.append(float(currLine[i]))\n",
    "    trainingSet.append(lineArr)\n",
    "    trainingLabels.append(float(currLine[21]))\n",
    "    weight3 = stocGradDesc2(trainingSet,trainingLabels)"
   ]
  },
  {
   "cell_type": "code",
   "execution_count": 3,
   "metadata": {},
   "outputs": [
    {
     "data": {
      "text/plain": [
       "array([[ 12.62808326,   5.6678916 ,   9.28048954,  -5.87955718,\n",
       "          0.30177723,  -5.85897761,  -8.29084797, -23.22992762,\n",
       "         -4.77280192, -26.08663404,  16.7858823 , -14.03445356,\n",
       "         26.66493898,   0.44172587, -22.66947007,   2.72291561,\n",
       "         -0.3654552 ,   1.72298517,  -0.81361908, -11.85345581,\n",
       "        -13.10722584]])"
      ]
     },
     "execution_count": 3,
     "metadata": {},
     "output_type": "execute_result"
    }
   ],
   "source": [
    "weight3"
   ]
  },
  {
   "cell_type": "code",
   "execution_count": 4,
   "metadata": {},
   "outputs": [],
   "source": [
    "#逻辑回归分类函数\n",
    "def classifyLogistic(inX,weight):\n",
    "    prob = sigmoid(np.sum(inX*weight))\n",
    "    if(prob>0.5):\n",
    "        return 1\n",
    "    else:\n",
    "        return 0"
   ]
  },
  {
   "cell_type": "code",
   "execution_count": null,
   "metadata": {},
   "outputs": [],
   "source": []
  }
 ],
 "metadata": {
  "kernelspec": {
   "display_name": "Python 3",
   "language": "python",
   "name": "python3"
  },
  "language_info": {
   "codemirror_mode": {
    "name": "ipython",
    "version": 3
   },
   "file_extension": ".py",
   "mimetype": "text/x-python",
   "name": "python",
   "nbconvert_exporter": "python",
   "pygments_lexer": "ipython3",
   "version": "3.6.6"
  }
 },
 "nbformat": 4,
 "nbformat_minor": 2
}
