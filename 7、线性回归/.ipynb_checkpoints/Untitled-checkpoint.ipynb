{
 "cells": [
  {
   "cell_type": "markdown",
   "metadata": {},
   "source": [
    "### 加载数据"
   ]
  },
  {
   "cell_type": "code",
   "execution_count": 41,
   "metadata": {},
   "outputs": [],
   "source": [
    "#dataList设置第一个分量都为1，这是为了引入偏置，第二个分量为x坐标值，labelList为y坐标值，即对应的真实值\n",
    "def loadData(filename):\n",
    "    numFeat = len(open(filename).readline().split('\\t'))-1\n",
    "    dataList = [];labelList = []\n",
    "    fr = open(filename)\n",
    "    for line in fr.readlines():\n",
    "        lineArr = []\n",
    "        curLine = line.split('\\t')\n",
    "        for i in range(numFeat):\n",
    "            lineArr.extend([float(curLine[i])])\n",
    "        dataList.append(lineArr)\n",
    "        labelList.append(float(curLine[-1]))\n",
    "    return dataList,labelList"
   ]
  },
  {
   "cell_type": "markdown",
   "metadata": {},
   "source": [
    "### 画出数据点"
   ]
  },
  {
   "cell_type": "code",
   "execution_count": 42,
   "metadata": {},
   "outputs": [
    {
     "data": {
      "text/plain": [
       "<matplotlib.collections.PathCollection at 0x125d7710>"
      ]
     },
     "execution_count": 42,
     "metadata": {},
     "output_type": "execute_result"
    }
   ],
   "source": [
    "import numpy as np\n",
    "import matplotlib.pyplot as plt\n",
    "dataList,labelList = loadData('ex0.txt')\n",
    "dataArr = np.array(dataList)\n",
    "labelArr = np.array(labelList)\n",
    "plt.scatter(dataArr[:,1],labelArr)"
   ]
  },
  {
   "cell_type": "markdown",
   "metadata": {},
   "source": [
    "### 用矩阵法求解线性回归"
   ]
  },
  {
   "cell_type": "code",
   "execution_count": 43,
   "metadata": {},
   "outputs": [],
   "source": [
    "def fastRegress(xArr,yArr):\n",
    "    xMat = np.mat(xArr);yMat = np.mat(yArr).T\n",
    "    xTx = xMat.T*xMat\n",
    "    if np.linalg.det(xTx) == 0:\n",
    "        print(\"This matrix can not inverse \")\n",
    "        return\n",
    "    w = xTx.I*(xMat.T*yMat)\n",
    "    return w\n",
    "w = fastRegress(dataList,labelList)"
   ]
  },
  {
   "cell_type": "markdown",
   "metadata": {},
   "source": [
    "### 用梯度下降法求解线性回归"
   ]
  },
  {
   "cell_type": "code",
   "execution_count": 44,
   "metadata": {},
   "outputs": [],
   "source": [
    "def gradient_Descent(dataList,labelList):\n",
    "    dataMat = np.mat(dataList);labelMat = np.mat(labelList).T\n",
    "    n = dataMat.shape[1]\n",
    "    w = np.mat(np.ones([n,1]))\n",
    "    for i in range(500):\n",
    "        error = dataMat * w - labelMat\n",
    "        w = w - 0.001*dataMat.T*error\n",
    "    return w\n",
    "w = gradient_Descent(dataList,labelList)"
   ]
  },
  {
   "cell_type": "markdown",
   "metadata": {},
   "source": [
    "### 用随机梯度下降求解线性回归"
   ]
  },
  {
   "cell_type": "code",
   "execution_count": 45,
   "metadata": {},
   "outputs": [],
   "source": [
    "def random_gradient_Descent(dataList,labelList):\n",
    "    dataMat = np.mat(dataList);labelMat = np.mat(labelList).T\n",
    "    m,n = dataMat.shape\n",
    "    w = np.mat(np.ones([n,1]))\n",
    "    for j in range(100):#迭代次数\n",
    "        for i in range(m):#每次取一个数据更新权重\n",
    "            error = dataMat[i] * w - labelMat[i]\n",
    "            w = w - 0.001*dataMat[i].T*error\n",
    "    return w\n",
    "w = random_gradient_Descent(dataList,labelList)"
   ]
  },
  {
   "cell_type": "markdown",
   "metadata": {},
   "source": [
    "### 画出回归拟合直线"
   ]
  },
  {
   "cell_type": "code",
   "execution_count": 46,
   "metadata": {},
   "outputs": [
    {
     "data": {
      "text/plain": [
       "[<matplotlib.lines.Line2D at 0x1276beb8>]"
      ]
     },
     "execution_count": 46,
     "metadata": {},
     "output_type": "execute_result"
    },
    {
     "data": {
      "image/png": "[encoded data removed]",
      "text/plain": [
       "<Figure size 432x288 with 1 Axes>"
      ]
     },
     "metadata": {},
     "output_type": "display_data"
    }
   ],
   "source": [
    "xMat = np.mat(dataList)\n",
    "yPred = xMat * w #预测值\n",
    "plt.scatter(dataArr[:,1],labelArr)#真实值\n",
    "plt.plot(xMat[:,1],yPred)"
   ]
  },
  {
   "cell_type": "markdown",
   "metadata": {},
   "source": [
    "### 局部加权线性回归"
   ]
  },
  {
   "cell_type": "code",
   "execution_count": 47,
   "metadata": {},
   "outputs": [],
   "source": [
    "from numpy import *\n",
    "def lwlr(testPoint,xArr,yArr,k=1.0):\n",
    "    xMat = mat(xArr); yMat = mat(yArr)\n",
    "    m = shape(xMat)[0]\n",
    "    weights = mat(eye(m))\n",
    "    for i in range(m):\n",
    "        diffMat = testPoint - xMat[i,:]\n",
    "        weights[i,i] = exp(diffMat*diffMat.T/(-2*K**2))#给每个点赋予权重，离测试点越近的点权重越大\n",
    "    w = (xMat.T*weights*xMat).I*xMat.T*weights*yMat\n",
    "    return testPoint * w"
   ]
  },
  {
   "cell_type": "code",
   "execution_count": 48,
   "metadata": {},
   "outputs": [],
   "source": [
    "def lwlrTest(testArr,xArr,yArr,k=1.0):\n",
    "    m = shape(xArr)[0]\n",
    "    yPre = zeros(m)\n",
    "    for i in range(m):\n",
    "        yPre[i] = lwlr(testArr[i],xArr,yArr,k)\n",
    "    return yPre"
   ]
  },
  {
   "cell_type": "code",
   "execution_count": 49,
   "metadata": {},
   "outputs": [],
   "source": [
    "xArr,yArr = loadData('ex0.txt')"
   ]
  },
  {
   "cell_type": "code",
   "execution_count": null,
   "metadata": {},
   "outputs": [],
   "source": []
  }
 ],
 "metadata": {
  "kernelspec": {
   "display_name": "Python 3",
   "language": "python",
   "name": "python3"
  },
  "language_info": {
   "codemirror_mode": {
    "name": "ipython",
    "version": 3
   },
   "file_extension": ".py",
   "mimetype": "text/x-python",
   "name": "python",
   "nbconvert_exporter": "python",
   "pygments_lexer": "ipython3",
   "version": "3.6.6"
  }
 },
 "nbformat": 4,
 "nbformat_minor": 2
}
